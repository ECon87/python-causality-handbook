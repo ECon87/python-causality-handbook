{
 "cells": [
  {
   "cell_type": "markdown",
   "metadata": {},
   "source": [
    "# Challenges with Effect Heterogeneity and Binary Outcomes\n",
    " "
   ]
  },
  {
   "cell_type": "code",
   "execution_count": 1,
   "metadata": {
    "tags": [
     "hide-input"
    ]
   },
   "outputs": [],
   "source": [
    "import pandas as pd\n",
    "import numpy as np\n",
    "import seaborn as sns\n",
    "from matplotlib import pyplot as plt\n",
    "from matplotlib import style\n",
    "style.use(\"ggplot\")\n"
   ]
  },
  {
   "cell_type": "code",
   "execution_count": 2,
   "metadata": {},
   "outputs": [],
   "source": [
    "from typing import List\n",
    "\n",
    "import numpy as np\n",
    "import pandas as pd\n",
    "from toolz import curry, partial\n",
    "\n",
    "@curry\n",
    "def avg_treatment_effect(df, treatment, outcome):\n",
    "    return df.loc[df[treatment] == 1][outcome].mean() - df.loc[df[treatment] == 0][outcome].mean()\n",
    "    \n",
    "    \n",
    "\n",
    "@curry\n",
    "def cumulative_effect_curve(df: pd.DataFrame,\n",
    "                            treatment: str,\n",
    "                            outcome: str,\n",
    "                            prediction: str,\n",
    "                            min_rows: int = 30,\n",
    "                            steps: int = 100,\n",
    "                            effect_fn = avg_treatment_effect) -> np.ndarray:\n",
    "    \n",
    "    size = df.shape[0]\n",
    "    ordered_df = df.sort_values(prediction, ascending=False).reset_index(drop=True)\n",
    "    n_rows = list(range(min_rows, size, size // steps)) + [size]\n",
    "    return np.array([effect_fn(ordered_df.head(rows), treatment, outcome) for rows in n_rows])\n",
    "\n",
    "\n",
    "@curry\n",
    "def cumulative_gain_curve(df: pd.DataFrame,\n",
    "                          treatment: str,\n",
    "                          outcome: str,\n",
    "                          prediction: str,\n",
    "                          min_rows: int = 30,\n",
    "                          steps: int = 100,\n",
    "                          effect_fn = avg_treatment_effect) -> np.ndarray:\n",
    "    \n",
    "\n",
    "    size = df.shape[0]\n",
    "    n_rows = list(range(min_rows, size, size // steps)) + [size]\n",
    "\n",
    "    cum_effect = cumulative_effect_curve(df=df, treatment=treatment, outcome=outcome, prediction=prediction,\n",
    "                                         min_rows=min_rows, steps=steps, effect_fn=effect_fn)\n",
    "\n",
    "    return np.array([effect * (rows / size) for rows, effect in zip(n_rows, cum_effect)])\n"
   ]
  },
  {
   "cell_type": "code",
   "execution_count": null,
   "metadata": {},
   "outputs": [],
   "source": []
  },
  {
   "cell_type": "markdown",
   "metadata": {},
   "source": [
    "Here is an incredibly comon problem you might face if you find yourself working for a tech company: management wants to boost customer conversion to your product by means of some sort of nudge. For examply, they might want to increase number of app installs by offering a 10 BRL voucher for you to make in app purchases. Or offer you a free ride the first time you use their ride sharing app. Or decrease transactions fees in the first three months that you use their investment plataform. Now, because the nudge is often expensive, they would love to not have to do it for everyone. Rather, it would be great if we could use the conversion boosting nudge only on those customers who are most sensitive to it.\n",
    "\n",
    "In causal inference terms, you can probably tell by now that this type of business problem falls unde the treatment effect heterogeneity (TEH) umbrela. Specifically, you have a costly nudge as the treatment $T$, conversion as the binary outcome $Y$ and customer specific pre treatment features as $X$. You could then estimate the conditional average treatment effect $E[Y_1 - Y_0|X]$ (or $E[Y'(T)|X]$ if the treatment is continuous)$ with something like Double/Debiased ML and finally target with the nudge only the customers with the highest estimated treatment effect. In business terms, you would be personalizing your conversion strategy. You would be finding a segment of customers with high conversion incrementality and usnig nudges only in them.\n",
    "\n",
    "If you've remember Part II of the book, you know this is probably the go-to solution. However, there is one complication here that makes the TEH approach not so obvious. "
   ]
  },
  {
   "cell_type": "code",
   "execution_count": 3,
   "metadata": {},
   "outputs": [],
   "source": [
    "np.random.seed(42)\n",
    "\n",
    "n = 100000\n",
    "nudge = np.random.binomial(1, 0.5, n)\n",
    "age = np.random.gamma(10, 4, n)\n",
    "estimated_income = np.random.gamma(20, 2, n)*100\n",
    "\n",
    "latent_outcome = np.random.normal(-4.5 + estimated_income*0.001 + nudge + nudge*age*0.01)"
   ]
  },
  {
   "cell_type": "code",
   "execution_count": 4,
   "metadata": {},
   "outputs": [
    {
     "name": "stdout",
     "output_type": "stream",
     "text": [
      "Avg. Conversion:  0.5444\n"
     ]
    },
    {
     "data": {
      "text/html": [
       "<div>\n",
       "<style scoped>\n",
       "    .dataframe tbody tr th:only-of-type {\n",
       "        vertical-align: middle;\n",
       "    }\n",
       "\n",
       "    .dataframe tbody tr th {\n",
       "        vertical-align: top;\n",
       "    }\n",
       "\n",
       "    .dataframe thead th {\n",
       "        text-align: right;\n",
       "    }\n",
       "</style>\n",
       "<table border=\"1\" class=\"dataframe\">\n",
       "  <thead>\n",
       "    <tr style=\"text-align: right;\">\n",
       "      <th></th>\n",
       "      <th>conversion</th>\n",
       "      <th>nudge</th>\n",
       "      <th>age</th>\n",
       "      <th>estimated_income</th>\n",
       "      <th>latent_outcome</th>\n",
       "    </tr>\n",
       "  </thead>\n",
       "  <tbody>\n",
       "    <tr>\n",
       "      <th>0</th>\n",
       "      <td>0</td>\n",
       "      <td>0</td>\n",
       "      <td>50.122447</td>\n",
       "      <td>3098.260748</td>\n",
       "      <td>-0.869523</td>\n",
       "    </tr>\n",
       "    <tr>\n",
       "      <th>1</th>\n",
       "      <td>0</td>\n",
       "      <td>1</td>\n",
       "      <td>79.314411</td>\n",
       "      <td>3190.136369</td>\n",
       "      <td>-0.388433</td>\n",
       "    </tr>\n",
       "    <tr>\n",
       "      <th>2</th>\n",
       "      <td>1</td>\n",
       "      <td>1</td>\n",
       "      <td>59.239808</td>\n",
       "      <td>3867.869980</td>\n",
       "      <td>0.271970</td>\n",
       "    </tr>\n",
       "    <tr>\n",
       "      <th>3</th>\n",
       "      <td>0</td>\n",
       "      <td>1</td>\n",
       "      <td>25.415472</td>\n",
       "      <td>3784.975430</td>\n",
       "      <td>-0.430817</td>\n",
       "    </tr>\n",
       "    <tr>\n",
       "      <th>4</th>\n",
       "      <td>0</td>\n",
       "      <td>0</td>\n",
       "      <td>40.256898</td>\n",
       "      <td>5509.390963</td>\n",
       "      <td>-1.052747</td>\n",
       "    </tr>\n",
       "  </tbody>\n",
       "</table>\n",
       "</div>"
      ],
      "text/plain": [
       "   conversion  nudge        age  estimated_income  latent_outcome\n",
       "0           0      0  50.122447       3098.260748       -0.869523\n",
       "1           0      1  79.314411       3190.136369       -0.388433\n",
       "2           1      1  59.239808       3867.869980        0.271970\n",
       "3           0      1  25.415472       3784.975430       -0.430817\n",
       "4           0      0  40.256898       5509.390963       -1.052747"
      ]
     },
     "execution_count": 4,
     "metadata": {},
     "output_type": "execute_result"
    }
   ],
   "source": [
    "conversion = (latent_outcome > 0).astype(int)\n",
    "\n",
    "df = pd.DataFrame(dict(conversion=conversion,\n",
    "                       nudge=nudge,\n",
    "                       age=age,\n",
    "                       estimated_income=estimated_income,\n",
    "                       latent_outcome=latent_outcome))\n",
    "\n",
    "print(\"Avg. Conversion: \", df[\"conversion\"].mean())\n",
    "df.head()"
   ]
  },
  {
   "cell_type": "code",
   "execution_count": 5,
   "metadata": {},
   "outputs": [
    {
     "data": {
      "text/html": [
       "<div>\n",
       "<style scoped>\n",
       "    .dataframe tbody tr th:only-of-type {\n",
       "        vertical-align: middle;\n",
       "    }\n",
       "\n",
       "    .dataframe tbody tr th {\n",
       "        vertical-align: top;\n",
       "    }\n",
       "\n",
       "    .dataframe thead th {\n",
       "        text-align: right;\n",
       "    }\n",
       "</style>\n",
       "<table border=\"1\" class=\"dataframe\">\n",
       "  <thead>\n",
       "    <tr style=\"text-align: right;\">\n",
       "      <th></th>\n",
       "      <th>latent_outcome</th>\n",
       "      <th>conversion</th>\n",
       "    </tr>\n",
       "    <tr>\n",
       "      <th>nudge</th>\n",
       "      <th></th>\n",
       "      <th></th>\n",
       "    </tr>\n",
       "  </thead>\n",
       "  <tbody>\n",
       "    <tr>\n",
       "      <th>0</th>\n",
       "      <td>-0.502578</td>\n",
       "      <td>0.346557</td>\n",
       "    </tr>\n",
       "    <tr>\n",
       "      <th>1</th>\n",
       "      <td>0.889244</td>\n",
       "      <td>0.741721</td>\n",
       "    </tr>\n",
       "  </tbody>\n",
       "</table>\n",
       "</div>"
      ],
      "text/plain": [
       "       latent_outcome  conversion\n",
       "nudge                            \n",
       "0           -0.502578    0.346557\n",
       "1            0.889244    0.741721"
      ]
     },
     "execution_count": 5,
     "metadata": {},
     "output_type": "execute_result"
    }
   ],
   "source": [
    "df.groupby(\"nudge\")[[\"latent_outcome\", \"conversion\"]].mean()"
   ]
  },
  {
   "cell_type": "code",
   "execution_count": 6,
   "metadata": {},
   "outputs": [
    {
     "data": {
      "text/plain": [
       "1.3918215706463832"
      ]
     },
     "execution_count": 6,
     "metadata": {},
     "output_type": "execute_result"
    }
   ],
   "source": [
    "avg_treatment_effect(df, \"nudge\", \"latent_outcome\")"
   ]
  },
  {
   "cell_type": "code",
   "execution_count": 7,
   "metadata": {},
   "outputs": [
    {
     "data": {
      "text/plain": [
       "0.39516347253283457"
      ]
     },
     "execution_count": 7,
     "metadata": {},
     "output_type": "execute_result"
    }
   ],
   "source": [
    "avg_treatment_effect(df, \"nudge\", \"conversion\")"
   ]
  },
  {
   "cell_type": "code",
   "execution_count": 8,
   "metadata": {},
   "outputs": [
    {
     "data": {
      "text/plain": [
       "<matplotlib.legend.Legend at 0x7f1f3af92a00>"
      ]
     },
     "execution_count": 8,
     "metadata": {},
     "output_type": "execute_result"
    },
    {
     "data": {
      "image/png": "[encoded data removed]",
      "text/plain": [
       "<Figure size 432x288 with 1 Axes>"
      ]
     },
     "metadata": {},
     "output_type": "display_data"
    }
   ],
   "source": [
    "cumulative_effect_fn = cumulative_effect_curve(df, \"nudge\", \"latent_outcome\", min_rows=500)\n",
    "\n",
    "age_cumm_effect_latent = cumulative_effect_fn(prediction=\"age\")\n",
    "inc_cumm_effect_latent = cumulative_effect_fn(prediction=\"estimated_income\")\n",
    "\n",
    "plt.plot(age_cumm_effect_latent, label=\"age\")\n",
    "plt.plot(inc_cumm_effect_latent, label=\"est. income\")\n",
    "plt.legend()"
   ]
  },
  {
   "cell_type": "code",
   "execution_count": 9,
   "metadata": {},
   "outputs": [
    {
     "data": {
      "text/plain": [
       "<matplotlib.legend.Legend at 0x7f1f32e377f0>"
      ]
     },
     "execution_count": 9,
     "metadata": {},
     "output_type": "execute_result"
    },
    {
     "data": {
      "image/png": "[encoded data removed]",
      "text/plain": [
       "<Figure size 432x288 with 1 Axes>"
      ]
     },
     "metadata": {},
     "output_type": "display_data"
    }
   ],
   "source": [
    "cumulative_effect_fn = cumulative_effect_curve(df, \"nudge\", \"conversion\", min_rows=500)\n",
    "\n",
    "age_cumm_effect_latent = cumulative_effect_fn(prediction=\"age\")\n",
    "inc_cumm_effect_latent = cumulative_effect_fn(prediction=\"estimated_income\")\n",
    "\n",
    "plt.plot(age_cumm_effect_latent, label=\"age\")\n",
    "plt.plot(inc_cumm_effect_latent, label=\"est. income\")\n",
    "plt.legend()"
   ]
  },
  {
   "cell_type": "code",
   "execution_count": 10,
   "metadata": {},
   "outputs": [
    {
     "name": "stdout",
     "output_type": "stream",
     "text": [
      "Avg. Low Conversion:  0.11949\n",
      "Avg. High Conversion:  0.92854\n"
     ]
    }
   ],
   "source": [
    "df[\"conversion_low\"] = conversion = (latent_outcome > 2).astype(int)\n",
    "df[\"conversion_high\"] = conversion = (latent_outcome > -2).astype(int)\n",
    "\n",
    "print(\"Avg. Low Conversion: \", df[\"conversion_low\"].mean())\n",
    "print(\"Avg. High Conversion: \", df[\"conversion_high\"].mean())"
   ]
  },
  {
   "cell_type": "code",
   "execution_count": 11,
   "metadata": {},
   "outputs": [
    {
     "data": {
      "text/plain": [
       "<matplotlib.legend.Legend at 0x7f1f32dc0670>"
      ]
     },
     "execution_count": 11,
     "metadata": {},
     "output_type": "execute_result"
    },
    {
     "data": {
      "image/png": "[encoded data removed]",
      "text/plain": [
       "<Figure size 432x288 with 1 Axes>"
      ]
     },
     "metadata": {},
     "output_type": "display_data"
    }
   ],
   "source": [
    "cumulative_effect_fn = cumulative_effect_curve(df, \"nudge\", \"conversion_low\", min_rows=500)\n",
    "\n",
    "age_cumm_effect_latent = cumulative_effect_fn(prediction=\"age\")\n",
    "inc_cumm_effect_latent = cumulative_effect_fn(prediction=\"estimated_income\")\n",
    "\n",
    "plt.plot(age_cumm_effect_latent, label=\"age\")\n",
    "plt.plot(inc_cumm_effect_latent, label=\"est. income\")\n",
    "plt.legend()"
   ]
  },
  {
   "cell_type": "code",
   "execution_count": 12,
   "metadata": {},
   "outputs": [
    {
     "data": {
      "text/plain": [
       "<matplotlib.legend.Legend at 0x7f1f32db4a60>"
      ]
     },
     "execution_count": 12,
     "metadata": {},
     "output_type": "execute_result"
    },
    {
     "data": {
      "image/png": "[encoded data removed]",
      "text/plain": [
       "<Figure size 432x288 with 1 Axes>"
      ]
     },
     "metadata": {},
     "output_type": "display_data"
    }
   ],
   "source": [
    "cumulative_effect_fn = cumulative_effect_curve(df, \"nudge\", \"conversion_high\", min_rows=500)\n",
    "\n",
    "age_cumm_effect_latent = cumulative_effect_fn(prediction=\"age\")\n",
    "inc_cumm_effect_latent = cumulative_effect_fn(prediction=\"estimated_income\")\n",
    "\n",
    "plt.plot(age_cumm_effect_latent, label=\"age\")\n",
    "plt.plot(inc_cumm_effect_latent, label=\"est. income\")\n",
    "plt.legend()"
   ]
  },
  {
   "cell_type": "code",
   "execution_count": null,
   "metadata": {},
   "outputs": [],
   "source": []
  }
 ],
 "metadata": {
  "celltoolbar": "Tags",
  "kernelspec": {
   "display_name": "causal-glory",
   "language": "python",
   "name": "causal-glory"
  },
  "language_info": {
   "codemirror_mode": {
    "name": "ipython",
    "version": 3
   },
   "file_extension": ".py",
   "mimetype": "text/x-python",
   "name": "python",
   "nbconvert_exporter": "python",
   "pygments_lexer": "ipython3",
   "version": "3.9.7"
  }
 },
 "nbformat": 4,
 "nbformat_minor": 4
}
